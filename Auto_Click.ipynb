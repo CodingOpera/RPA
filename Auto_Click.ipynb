{
 "cells": [
  {
   "cell_type": "code",
   "execution_count": 2,
   "id": "da41c8db",
   "metadata": {},
   "outputs": [],
   "source": [
    "import openpyxl\n",
    "import time\n",
    "import pyautogui\n",
    "import pyperclip"
   ]
  },
  {
   "cell_type": "code",
   "execution_count": 3,
   "id": "a7c4cff3",
   "metadata": {},
   "outputs": [
    {
     "name": "stdout",
     "output_type": "stream",
     "text": [
      "Size(width=1920, height=1080)\n"
     ]
    }
   ],
   "source": [
    "print(pyautogui.size())"
   ]
  },
  {
   "cell_type": "code",
   "execution_count": null,
   "id": "9d3b9602",
   "metadata": {},
   "outputs": [
    {
     "name": "stderr",
     "output_type": "stream",
     "text": [
      "Exception in Tkinter callback\n",
      "Traceback (most recent call last):\n",
      "  File \"C:\\Users\\mwh51\\anaconda_3\\lib\\tkinter\\__init__.py\", line 1705, in __call__\n",
      "    return self.func(*args)\n",
      "  File \"C:\\Users\\mwh51\\anaconda_3\\lib\\tkinter\\__init__.py\", line 749, in callit\n",
      "    func(*args)\n",
      "  File \"C:\\Users\\mwh51\\anaconda_3\\lib\\site-packages\\mouseinfo\\__init__.py\", line 339, in _updateMouseInfoTextFields\n",
      "    self.colorFrame.configure(background=hexColor)\n",
      "  File \"C:\\Users\\mwh51\\anaconda_3\\lib\\tkinter\\__init__.py\", line 1485, in configure\n",
      "    return self._configure('configure', cnf, kw)\n",
      "  File \"C:\\Users\\mwh51\\anaconda_3\\lib\\tkinter\\__init__.py\", line 1476, in _configure\n",
      "    self.tk.call(_flatten((self._w, cmd)) + self._options(cnf))\n",
      "_tkinter.TclError: invalid color name \"#FFFFX1\"\n"
     ]
    }
   ],
   "source": [
    "pyautogui.mouseInfo()"
   ]
  },
  {
   "cell_type": "code",
   "execution_count": 42,
   "id": "16a0dd4e",
   "metadata": {},
   "outputs": [],
   "source": [
    "# 마우스를 원하는 위치로 원하는 시간에 이동(x, y, time)\n",
    "pyautogui.moveTo(908, 1061, 0.5)\n",
    "\n",
    "# 마우스 클릭\n",
    "pyautogui.click()\n",
    "\n",
    "# 마우스 우클릭\n",
    "pyautogui.click(button='right')\n",
    "\n",
    "# 마우스 더블클릭\n",
    "pyautogui.doubleClick()\n",
    "\n",
    "# 마우스 1초 간격으로 3번 클릭\n",
    "pyautogui.click(clicks=3, interval=1)\n",
    "\n",
    "# 마우스 드레그\n",
    "pyautogui.dragTo(1000, 1061, 0.5)"
   ]
  }
 ],
 "metadata": {
  "kernelspec": {
   "display_name": "Python 3 (ipykernel)",
   "language": "python",
   "name": "python3"
  },
  "language_info": {
   "codemirror_mode": {
    "name": "ipython",
    "version": 3
   },
   "file_extension": ".py",
   "mimetype": "text/x-python",
   "name": "python",
   "nbconvert_exporter": "python",
   "pygments_lexer": "ipython3",
   "version": "3.7.11"
  }
 },
 "nbformat": 4,
 "nbformat_minor": 5
}
