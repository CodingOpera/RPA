{
 "cells": [
  {
   "cell_type": "code",
   "execution_count": 2,
   "id": "28081041",
   "metadata": {},
   "outputs": [],
   "source": [
    "import openpyxl"
   ]
  },
  {
   "cell_type": "code",
   "execution_count": 3,
   "id": "5e6a156d",
   "metadata": {},
   "outputs": [],
   "source": [
    "# 새로운 엑셀 파일 생성\n",
    "wb = openpyxl.Workbook()"
   ]
  },
  {
   "cell_type": "code",
   "execution_count": 4,
   "id": "ee6ecae5",
   "metadata": {},
   "outputs": [],
   "source": [
    "# 현재 활성화된 시트 선택\n",
    "ws = wb.active"
   ]
  },
  {
   "cell_type": "code",
   "execution_count": 5,
   "id": "a6406483",
   "metadata": {},
   "outputs": [],
   "source": [
    "#시트 이름 변경\n",
    "ws.title = '자동화'"
   ]
  },
  {
   "cell_type": "code",
   "execution_count": 6,
   "id": "a7ac1983",
   "metadata": {},
   "outputs": [],
   "source": [
    "# 엑셀 저장\n",
    "wb.save('자동화.xlsx')"
   ]
  },
  {
   "cell_type": "code",
   "execution_count": 7,
   "id": "6e60f9c2",
   "metadata": {},
   "outputs": [],
   "source": [
    "ws = wb.create_sheet('2030.01')"
   ]
  },
  {
   "cell_type": "code",
   "execution_count": 8,
   "id": "81871eda",
   "metadata": {},
   "outputs": [
    {
     "name": "stdout",
     "output_type": "stream",
     "text": [
      "['자동화', '2030.01']\n"
     ]
    }
   ],
   "source": [
    "print(wb.sheetnames)"
   ]
  },
  {
   "cell_type": "code",
   "execution_count": 9,
   "id": "3d450484",
   "metadata": {},
   "outputs": [],
   "source": [
    "del wb['자동화']\n",
    "wb.save('자동화.xlsx')"
   ]
  },
  {
   "cell_type": "code",
   "execution_count": 10,
   "id": "e626a08d",
   "metadata": {},
   "outputs": [],
   "source": [
    "# 기존 엑셀파일을 불러옴\n",
    "wb = openpyxl.load_workbook('자동화.xlsx')"
   ]
  },
  {
   "cell_type": "code",
   "execution_count": 11,
   "id": "adf780c1",
   "metadata": {},
   "outputs": [],
   "source": [
    "# 현재 활성화된 시트 선택\n",
    "ws = wb.active"
   ]
  },
  {
   "cell_type": "code",
   "execution_count": 19,
   "id": "82a3a4bb",
   "metadata": {},
   "outputs": [],
   "source": [
    "# 데이터 추가1\n",
    "ws['A1'] = '날짜'\n",
    "ws['B1'] = '제품명'\n",
    "ws['C1'] = '가격'\n",
    "ws['D1'] = '수량'\n",
    "ws['E1'] = '합계'"
   ]
  },
  {
   "cell_type": "code",
   "execution_count": 20,
   "id": "7a726659",
   "metadata": {},
   "outputs": [
    {
     "data": {
      "text/plain": [
       "<Cell '2030.01'.E2>"
      ]
     },
     "execution_count": 20,
     "metadata": {},
     "output_type": "execute_result"
    }
   ],
   "source": [
    "# 데이터 추가2\n",
    "ws.cell(row=2, column=1, value='2030-01-01')\n",
    "ws.cell(row=2, column=2, value='게이밍 마우스')\n",
    "ws.cell(row=2, column=3, value=50000)\n",
    "ws.cell(row=2, column=4, value=30)\n",
    "ws.cell(row=2, column=5, value='=C2*D2')"
   ]
  },
  {
   "cell_type": "code",
   "execution_count": 22,
   "id": "dd5736fb",
   "metadata": {},
   "outputs": [],
   "source": [
    "# 데이터 추가3\n",
    "ws.append(['2030-01-03', '기계식 키보드', 120000, 15, '=C3*D3'])"
   ]
  },
  {
   "cell_type": "code",
   "execution_count": 23,
   "id": "13cd82fa",
   "metadata": {},
   "outputs": [],
   "source": [
    "# 엑셀 저장\n",
    "wb.save('자동화.xlsx')"
   ]
  },
  {
   "cell_type": "code",
   "execution_count": null,
   "id": "0d8127c4",
   "metadata": {},
   "outputs": [],
   "source": []
  }
 ],
 "metadata": {
  "kernelspec": {
   "display_name": "Python 3 (ipykernel)",
   "language": "python",
   "name": "python3"
  },
  "language_info": {
   "codemirror_mode": {
    "name": "ipython",
    "version": 3
   },
   "file_extension": ".py",
   "mimetype": "text/x-python",
   "name": "python",
   "nbconvert_exporter": "python",
   "pygments_lexer": "ipython3",
   "version": "3.9.7"
  }
 },
 "nbformat": 4,
 "nbformat_minor": 5
}
